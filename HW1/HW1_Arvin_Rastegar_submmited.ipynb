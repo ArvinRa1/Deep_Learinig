{
 "cells": [
  {
   "cell_type": "markdown",
   "metadata": {
    "id": "d8MTQQX3WaFa"
   },
   "source": [
    "#**HW 1 : From Perceptron to DNN**\n",
    "\n",
    "In this first homework, we are going to write our own simple feedforward neural network using just Python and NumPy (the standard numeric library for Python). We will start by implementing just a simple neuron, or perceptron, then we define the training algorithm for this simple model.\n",
    "The second part consists in defining a simple neural network to perform digits classification.\n"
   ]
  },
  {
   "cell_type": "markdown",
   "metadata": {
    "id": "-bEFm73cYFQy"
   },
   "source": [
    "## Exercise 1.1: Perceptron\n",
    "\n",
    "In this first exercise, we will implement a simple neuron, or perceptron, as visualized below. We will have just three inputs and one output neuron (we will skip the bias for now).\n",
    "Notice how the perceptron just performs a sum of the individual inputs multiplied by the corresponding weights mapped through an activation function $f(\\cdot)$.  This can also be expressed as a dot product of the weight vector $\\textbf{W}$ and the input vector $\\textbf{x}$. Thus: $\\hat{y}=f(\\textbf{W}^T \\textbf{x})$."
   ]
  },
  {
   "cell_type": "markdown",
   "metadata": {
    "id": "hDlidWmiYuKB"
   },
   "source": [
    "In this first part we will implement the perpetron by using [numpy](https://docs.scipy.org/doc/numpy/reference/) library."
   ]
  },
  {
   "cell_type": "code",
   "execution_count": 286,
   "metadata": {
    "id": "i0UCur_TYckH"
   },
   "outputs": [],
   "source": [
    "import numpy as np"
   ]
  },
  {
   "cell_type": "markdown",
   "metadata": {
    "id": "JQONq1k6Y1Zx"
   },
   "source": [
    "### Training data\n",
    "\n",
    "Let's consider a very simple dataset. The dataset is composed of the inputs value $x \\in \\mathbb{R}^3$ and the desired target values. Below, each row is a single example: the first three columns the input and the last column the target output.\n",
    "\n",
    "    0 0 1  0  \n",
    "    0 1 1  0  \n",
    "    1 0 1  1  \n",
    "    1 1 1  1  \n",
    "\n",
    "Note that our target outputs are equal to the first column of the input. Therefore the task that the model should learn is very simple. We will see if it can learn that just from the data.\n",
    "\n",
    "Now let's define the `X` and `y` matrices."
   ]
  },
  {
   "cell_type": "code",
   "execution_count": 287,
   "metadata": {
    "colab": {
     "base_uri": "https://localhost:8080/"
    },
    "id": "u1FzAUxhY9PA",
    "outputId": "9c1fd774-3321-4405-d182-b71707eab92d"
   },
   "outputs": [
    {
     "name": "stdout",
     "output_type": "stream",
     "text": [
      "X= [[0 0 1]\n",
      " [0 1 1]\n",
      " [1 0 1]\n",
      " [1 1 1]]\n",
      "y= [[0]\n",
      " [0]\n",
      " [1]\n",
      " [1]]\n"
     ]
    }
   ],
   "source": [
    "# Our input data is a matrix, each row is one input sample\n",
    "X = np.array([[0,0,1],\n",
    "              [0,1,1],\n",
    "              [1,0,1],\n",
    "              [1,1,1]])\n",
    "    \n",
    "# The target output as a column vector in 2-D array format (.T means transpose)\n",
    "y = np.array([[0,0,1,1]]).T\n",
    "\n",
    "print('X=',X)\n",
    "print('y=',y)"
   ]
  },
  {
   "cell_type": "markdown",
   "metadata": {
    "id": "z-W8wMnoZH71"
   },
   "source": [
    "### Activation function\n",
    "\n",
    "As we said before, in order to define a perceptro we need to define the activation function $f(\\cdot)$. There are many possibile activation function that can be use. Let's plot some commonly used activation functions.\n",
    "\n",
    "\n"
   ]
  },
  {
   "cell_type": "code",
   "execution_count": 288,
   "metadata": {
    "colab": {
     "base_uri": "https://localhost:8080/",
     "height": 281
    },
    "id": "Fi5ZK9zKZssu",
    "outputId": "1db06b0d-0820-4eb1-bc2e-4ca35a352bbf"
   },
   "outputs": [
    {
     "data": {
      "image/png": "[encoded data removed]",
      "text/plain": [
       "<Figure size 432x288 with 1 Axes>"
      ]
     },
     "metadata": {
      "needs_background": "light"
     },
     "output_type": "display_data"
    }
   ],
   "source": [
    "import matplotlib.pyplot as plt \n",
    "x = np.arange(-4,4,.01)\n",
    "plt.figure()\n",
    "plt.plot(x, np.maximum(x,0), label='ReLu')\n",
    "plt.plot(x, 1/(1+np.exp(-x)), label='sigmoid')\n",
    "plt.plot(x, np.tanh(x), label='tanh')\n",
    "plt.axis([-4, 4, -1.1, 1.1])\n",
    "plt.title('Activation functions')\n",
    "l = plt.legend()\n",
    "\n",
    "# Delete temporary variables, so not to cause any confusion later :-)\n",
    "del x, l"
   ]
  },
  {
   "cell_type": "markdown",
   "metadata": {
    "id": "jdmJ6-qaZjuZ"
   },
   "source": [
    "In this particular case we will use the sigmoid function. So, let's define $f(\\cdot)$ as the sigmoid function\n",
    "\n",
    "$\\sigma(x)=\\frac{1}{1+\\exp^{-x}}$"
   ]
  },
  {
   "cell_type": "code",
   "execution_count": 289,
   "metadata": {
    "id": "wwnk5RgKZRox"
   },
   "outputs": [],
   "source": [
    "def f(x):\n",
    "    return 1/(1+np.exp(-x))"
   ]
  },
  {
   "cell_type": "markdown",
   "metadata": {
    "id": "vX-62n3Io0XU"
   },
   "source": [
    "### Weight initialization\n",
    "\n",
    "We have to initialise our weights. Let's initialize them randomly, so that their mean is zero. The weights matrix map the input space into the output space, therefore in our case $\\mathbf{W} \\in \\mathbb{R}^{3 \\times 1}$"
   ]
  },
  {
   "cell_type": "code",
   "execution_count": 290,
   "metadata": {
    "colab": {
     "base_uri": "https://localhost:8080/"
    },
    "id": "9f83YkaNtd5h",
    "outputId": "3f846e83-49e2-41b3-fc00-817ac7d72b25"
   },
   "outputs": [
    {
     "name": "stdout",
     "output_type": "stream",
     "text": [
      "W= [[ 0.2788536 ]\n",
      " [-0.94997849]\n",
      " [-0.44994136]]\n"
     ]
    }
   ],
   "source": [
    "np.random.seed([42])\n",
    "\n",
    "# initialize weights randomly with mean 0\n",
    "W = 2*np.random.random((3,1)) - 1\n",
    "\n",
    "print('W=', W)"
   ]
  },
  {
   "cell_type": "markdown",
   "metadata": {
    "id": "pZd-aQxAuX49"
   },
   "source": [
    "### Forward propagation\n",
    "\n",
    "Now let's try one round of forward propagation.  This means taking an input sample and moving it forward through the network, finally calculating the output of the network.\n",
    "\n",
    "For our single neuron this is simply $\\hat{\\mathbf{y}} = f(\\mathbf{W}^T \\mathbf{x})$, where $\\mathbf{x}$ is one input vector.\n",
    "\n",
    "each input sample is arranged as a row of the matrix `X`, therefore we can access the first row by `X[0]`. Let's store it in the variable `X0` for easier access. We'll use `reshape` to make sure it's expressed as a column vector."
   ]
  },
  {
   "cell_type": "code",
   "execution_count": 291,
   "metadata": {
    "colab": {
     "base_uri": "https://localhost:8080/"
    },
    "id": "9gTx4QxUumvQ",
    "outputId": "0d16af7f-5e82-45e6-c56f-be07cfdfe53b"
   },
   "outputs": [
    {
     "name": "stdout",
     "output_type": "stream",
     "text": [
      "[[0]\n",
      " [0]\n",
      " [1]]\n"
     ]
    }
   ],
   "source": [
    "X0=np.reshape(X[0], (3,1))\n",
    "print(X0)"
   ]
  },
  {
   "cell_type": "markdown",
   "metadata": {
    "id": "IpDCnmxWurjC"
   },
   "source": [
    "The output $\\hat{y}$ for the first input can be calculated according to the formula given above"
   ]
  },
  {
   "cell_type": "code",
   "execution_count": 292,
   "metadata": {
    "colab": {
     "base_uri": "https://localhost:8080/"
    },
    "id": "idDZfTVKuyPf",
    "outputId": "ffd41613-075f-4d45-d670-ef5a76a1ca22"
   },
   "outputs": [
    {
     "name": "stdout",
     "output_type": "stream",
     "text": [
      "y_out= [[0.38937471]]\n"
     ]
    }
   ],
   "source": [
    "y_out = f(np.dot(W.T, X0))\n",
    "\n",
    "print('y_out=', y_out)"
   ]
  },
  {
   "cell_type": "markdown",
   "metadata": {
    "id": "Oda3Y3btu8Uz"
   },
   "source": [
    "the target result is stored in `y[0]`.  If you check back, you can see we defined it to be 0. You can see that our network is pretty far away from the right answer. This is why we need to backpropagate the error, to adjust the weights in the right direction."
   ]
  },
  {
   "cell_type": "markdown",
   "metadata": {
    "id": "oGvgZCDFu-EM"
   },
   "source": [
    "### Backpropagation\n",
    "\n",
    "The next step is to update the weights by propagating the error backward in the network.  Exactly how this is done depends on the activation function, or more specifically its derivative. The activation function of the considered model is the sigmoid, its derivative is:\n",
    "\n",
    "$\\sigma(x) \\cdot (1-\\sigma(x))$\n",
    "\n",
    "Recall that the weight update is given as $\\Delta w_{ji} = -\\epsilon \\delta_j x_i$. Our network has only one layer, so $x_i$ is just the input, i.e., and a single output neuron so there is no need for index $j$. \n",
    "\n",
    "In matrix form we can calculate this for all the weights:\n",
    "\n",
    "$$\\Delta \\textbf{W} = -\\epsilon \\delta \\textbf{x}_0$$\n",
    "where $\\delta$ is the gradient (grad in the code) and $\\textbf{x}_0$ is our first input sample in variable `X0`.\n",
    "\n",
    "Recall that $y$ is the desired output, i.e. `y[0]` in the Python code, and $\\hat{y}$ is `y_out` here."
   ]
  },
  {
   "cell_type": "code",
   "execution_count": 293,
   "metadata": {
    "colab": {
     "base_uri": "https://localhost:8080/"
    },
    "id": "bs0EG3n9ve6J",
    "outputId": "4754bee6-8a31-4557-ab0e-22a998eb6409"
   },
   "outputs": [
    {
     "name": "stdout",
     "output_type": "stream",
     "text": [
      "[[-0.        ]\n",
      " [-0.        ]\n",
      " [-0.04628926]]\n"
     ]
    }
   ],
   "source": [
    "# the learning rate determines the step size in the gradient descent, you can experiment with different values if you want\n",
    "learning_rate = 0.5 \n",
    "\n",
    "# compute the gradient term\n",
    "grad = (y_out - y[0])*y_out*(1 - y_out)\n",
    "\n",
    "# Calculate the weight update\n",
    "W_delta = -learning_rate * grad * X0\n",
    "\n",
    "print(W_delta)\n",
    "\n",
    "# Update the weights\n",
    "W += W_delta"
   ]
  },
  {
   "cell_type": "markdown",
   "metadata": {
    "id": "Ha1gJ0n9v2oV"
   },
   "source": [
    "Let's try a forward propagation again with the same input."
   ]
  },
  {
   "cell_type": "code",
   "execution_count": 294,
   "metadata": {
    "colab": {
     "base_uri": "https://localhost:8080/"
    },
    "id": "fh40oHl2v6rs",
    "outputId": "0a6e557e-8447-42bf-f8a5-e2aa37761758"
   },
   "outputs": [
    {
     "name": "stdout",
     "output_type": "stream",
     "text": [
      "y_out= [[0.37842689]]\n"
     ]
    }
   ],
   "source": [
    "y_out=f(np.dot(W.T, X0))\n",
    "\n",
    "print('y_out=', y_out)"
   ]
  },
  {
   "cell_type": "markdown",
   "metadata": {
    "id": "lHc3os_AL54y"
   },
   "source": [
    "You should notice that the result has moved (very slightly) towards the correct answer (that is zero). In order to converge to the right value we have to perform more iterations!"
   ]
  },
  {
   "cell_type": "markdown",
   "metadata": {
    "id": "8INLy50fyORN"
   },
   "source": [
    "### Training iterations [TO COMPLETE]\n",
    "\n",
    "Let's define a complete training procedure for our model. In each iteration we have to perform the forward propagation, then we'll check how much the output differs from the target and propagate the error back (backward propagation).  We'll do this for each sample data point and then iterate this over and over again using a for loop."
   ]
  },
  {
   "cell_type": "code",
   "execution_count": 295,
   "metadata": {
    "colab": {
     "base_uri": "https://localhost:8080/"
    },
    "id": "PPXJwQm4ycgH",
    "outputId": "8969e5b2-9aeb-49b2-f6c1-e4d1566bf6f6"
   },
   "outputs": [
    {
     "name": "stdout",
     "output_type": "stream",
     "text": [
      "Output after training, y_out\n",
      "[[0.04636779]\n",
      " [0.03694572]\n",
      " [0.97020561]\n",
      " [0.96253637]]\n",
      "Target output, y\n",
      "[[0]\n",
      " [0]\n",
      " [1]\n",
      " [1]]\n"
     ]
    }
   ],
   "source": [
    "# For the training we need to iterate over the data set several times\n",
    "num_iters = 1000\n",
    "\n",
    "learning_rate = 0.5\n",
    "\n",
    "# We'll also calculate the mean square error (MSE) in every round so we can see how it develops,\n",
    "# mse is just an array to store these for each round\n",
    "mse = np.zeros(num_iters)\n",
    "\n",
    "# For-loop for the iterations\n",
    "for it in range(num_iters):\n",
    "    \n",
    "    # For-loop going over each sample in X\n",
    "    for n in range(len(X)):\n",
    "        # Extract the n_th sample and the corresponding desired output\n",
    "        x_n = np.reshape(X[n], (3,1))\n",
    "        # Get the correponding target value\n",
    "        y_target = y[n]\n",
    "        \n",
    "        # Forward propagation\n",
    "        y_out = f(np.dot(W.T, x_n))\n",
    "\n",
    "        # Let's keep track of the sum of squared errors  \n",
    "        mse[it] += ((y_target - y_out) ** 2) / 2  # [TO COMPLETE] compute squared error between y_target and y_out\n",
    "    \n",
    "        # compute the gradient\n",
    "        grad = (y_out - y_target)*y_out*(1 - y_out) \n",
    "    \n",
    "        # Calculate the weights update\n",
    "        W_delta = -learning_rate * grad * x_n\n",
    "\n",
    "        # Update the weights\n",
    "        W += W_delta\n",
    "\n",
    "    # Divide by the number of elements to get the mean of the squared errors\n",
    "    mse[it] /= len(X)\n",
    "\n",
    "\n",
    "y_out = f(np.dot(X, W))\n",
    "print(\"Output after training, y_out\")\n",
    "print(y_out)\n",
    "print(\"Target output, y\")\n",
    "print(y)"
   ]
  },
  {
   "cell_type": "markdown",
   "metadata": {
    "id": "yT1qLBvBzpDc"
   },
   "source": [
    "After the training phase, the output of the network is pretty close to the target output. \n",
    "\n",
    "How many iterations were required in order to obtain this result? We have set the number of the iteration to 1000, but it is interesting to study the trend of the error trought the iterations. In the next homework, we will analyze how to select the right number of epochs."
   ]
  },
  {
   "cell_type": "code",
   "execution_count": 296,
   "metadata": {
    "colab": {
     "base_uri": "https://localhost:8080/",
     "height": 265
    },
    "id": "a6RsKlA7zrw3",
    "outputId": "fd3ac707-4254-45ec-9541-e2ed56011812"
   },
   "outputs": [
    {
     "data": {
      "image/png": "[encoded data removed]",
      "text/plain": [
       "<Figure size 432x288 with 1 Axes>"
      ]
     },
     "metadata": {
      "needs_background": "light"
     },
     "output_type": "display_data"
    }
   ],
   "source": [
    "plt.figure()\n",
    "plt.plot(range(num_iters), mse, label=\"MSE\")\n",
    "l = plt.legend()"
   ]
  },
  {
   "cell_type": "markdown",
   "metadata": {
    "id": "hiS6hr-eMWR1"
   },
   "source": [
    "You should see the error going down pretty quickly in the beginning and then slowing down."
   ]
  },
  {
   "cell_type": "markdown",
   "metadata": {
    "id": "Zoz4y02rxorc"
   },
   "source": [
    "### Batch training\n",
    "\n",
    "With real-world data it is very slow to handle each example one-by-one like we did above.  Instead one typically uses so called mini batches of several input examples at once.\n",
    "\n",
    "Lets consider a subset of samples from the training set. Each of these samples is one row in $\\textbf{X}$, instead of a single column vector as before. The forward propagation step looks a bit different mathematically: $\\hat{\\textbf{y}} = f(\\textbf{X}\\textbf{W})$."
   ]
  },
  {
   "cell_type": "code",
   "execution_count": 297,
   "metadata": {
    "colab": {
     "base_uri": "https://localhost:8080/"
    },
    "id": "pwc6hfIlxspG",
    "outputId": "a62aa102-decf-4a09-d087-c5627da1a736"
   },
   "outputs": [
    {
     "name": "stdout",
     "output_type": "stream",
     "text": [
      "[[0.04636779]\n",
      " [0.03694572]\n",
      " [0.97020561]\n",
      " [0.96253637]]\n"
     ]
    }
   ],
   "source": [
    "y_out = f(np.dot(X, W))\n",
    "print(y_out)"
   ]
  },
  {
   "cell_type": "markdown",
   "metadata": {
    "id": "H8pBN8voyLGv"
   },
   "source": [
    "Then we will get the corresponding output (each value in `y_out`) for each input (each row in `X`) in single matrix multiplication.  The error and weight updates can similarly all be calculated in a single go using matrix multiplications similarly to the steps we did above with single vectors.\n",
    "\n",
    "In these exercises, we'll stick to just doing one sample at a time, as the batch mode makes it a bit more complicated to understand."
   ]
  },
  {
   "cell_type": "markdown",
   "metadata": {
    "id": "7wv8Vplo1F7E"
   },
   "source": [
    "## Exercise 1.2. The XOR problem"
   ]
  },
  {
   "cell_type": "markdown",
   "metadata": {
    "id": "oiI7bIaY1OVI"
   },
   "source": [
    "Now let's try a slightly more difficult example. We'll use the same input data, but a different desired output. \n",
    "\n",
    "    0 0 1  0  \n",
    "    0 1 1  1  \n",
    "    1 0 1  1  \n",
    "    1 1 1  0 \n",
    "\n",
    "In particular, the new input-output configuration represents the XOR problem (the last column of the input data is just ones, and thus irrelevant). This problem is interesting because it can not be solved by using a single layer perceptron. Indeed, you will need (at least) a two-layer network to solve it.\n",
    "In this exercise we will first show that the network that we defined in the previous exercise, can not solve the XOR problem,  then, we will define a 2 layer perceptron able to compute the correct solution."
   ]
  },
  {
   "cell_type": "code",
   "execution_count": 298,
   "metadata": {
    "id": "MuSfKOpD1TqJ"
   },
   "outputs": [],
   "source": [
    "import numpy as np\n",
    "import matplotlib.pyplot as plt \n",
    "\n",
    "np.random.seed([42])\n",
    "\n",
    "X = np.array([[0,0,1],\n",
    "              [0,1,1],\n",
    "              [1,0,1],\n",
    "              [1,1,1]])\n",
    "    \n",
    "y = np.array([[0,1,1,0]]).T"
   ]
  },
  {
   "cell_type": "markdown",
   "metadata": {
    "id": "5FphvrH-1e5O"
   },
   "source": [
    "As we did in the previous exercise let's initialize the weights and define the activation function, also in this exercise we will use the sigmoid function."
   ]
  },
  {
   "cell_type": "code",
   "execution_count": 299,
   "metadata": {
    "id": "aMeTD8cb1kNm"
   },
   "outputs": [],
   "source": [
    "# Weights initialization\n",
    "W = 2*np.random.random((3,1)) - 1\n",
    "\n",
    "# Activation function\n",
    "def f(x):\n",
    "    return 1/(1+np.exp(-x))"
   ]
  },
  {
   "cell_type": "markdown",
   "metadata": {
    "id": "unbPv9pn3kVE"
   },
   "source": [
    "Now, let's run the network previously defined to check if it is able to solve the XOR problem."
   ]
  },
  {
   "cell_type": "code",
   "execution_count": 300,
   "metadata": {
    "colab": {
     "base_uri": "https://localhost:8080/"
    },
    "id": "PGlUPnvi31fL",
    "outputId": "8b39ba58-82a5-419f-ad5f-259dc849f40f"
   },
   "outputs": [
    {
     "name": "stdout",
     "output_type": "stream",
     "text": [
      "Output after training, y_out\n",
      "[[0.516106  ]\n",
      " [0.5       ]\n",
      " [0.483894  ]\n",
      " [0.46782138]]\n",
      "Desired output, y\n",
      "[[0]\n",
      " [1]\n",
      " [1]\n",
      " [0]]\n"
     ]
    }
   ],
   "source": [
    "num_iters = 1000\n",
    "learning_rate = 0.5\n",
    "\n",
    "for it in range(num_iters):\n",
    "    for n in range(len(X)):\n",
    "        x_n = np.reshape(X[n], (3,1))\n",
    "        y_target = y[n]\n",
    "        \n",
    "        # Forward propagation\n",
    "        y_out = f(np.dot(W.T, x_n))\n",
    "\n",
    "        # Compute the Gradient\n",
    "        grad = (y_out - y_target)*y_out*(1 - y_out)\n",
    "    \n",
    "        # Calculate the weights update\n",
    "        W_delta = -learning_rate * grad * x_n\n",
    "\n",
    "        # Update the weights\n",
    "        W += W_delta\n",
    "\n",
    "\n",
    "# Now let's see the output for each input sample with the trained weights\n",
    "# Using batch mode we can do this in a single line\n",
    "y_out = f(np.dot(X, W))\n",
    "print(\"Output after training, y_out\")\n",
    "print(y_out)\n",
    "print(\"Desired output, y\")\n",
    "print(y)\n",
    "\n"
   ]
  },
  {
   "cell_type": "markdown",
   "metadata": {
    "id": "myYbripS39R-"
   },
   "source": [
    "### Two layers network [TO COMPLETE]\n",
    "As you can see the network is not able to solve the problem, it's not even close. You can try to increase the number of iterations, but it won't help.\n",
    "Let's add a single hidden layer, for example with 4 hidden nodes (you can experiment with this number).\n",
    "The input to the network is $\\mathbf{x}$ as before.  The first hidden layer calculates $\\textbf{h} = f(\\textbf{W}_1^Tx)$, note that $\\textbf{W}_1$ is now $\\in \\mathbb{R}^{3 \\times 4}$.  The output layer calculates $\\hat{y} = f(\\textbf{W}_2^T\\textbf{h})$ (note that $\\hat{y}$ is named y_out in the code), where ${W}_2 \\in \\mathbb{R}^{4 \\times 1}$.\n",
    "\n",
    "We'll start by initializing the weights randomly."
   ]
  },
  {
   "cell_type": "code",
   "execution_count": 301,
   "metadata": {
    "id": "Llke92kx4MRR"
   },
   "outputs": [],
   "source": [
    "num_hidden = 4\n",
    "\n",
    "# initialize weights randomly with mean 0\n",
    "W_1 = 2*np.random.random((3,num_hidden)) - 1\n",
    "W_2 = 2*np.random.random((num_hidden,1)) - 1"
   ]
  },
  {
   "cell_type": "markdown",
   "metadata": {
    "id": "QnQfHhXV7dO0"
   },
   "source": [
    "We have to define the training procedure in order to manage the two layers"
   ]
  },
  {
   "cell_type": "code",
   "execution_count": 302,
   "metadata": {
    "colab": {
     "base_uri": "https://localhost:8080/"
    },
    "id": "slOBh8IJ4tSK",
    "outputId": "de561664-e7b1-4beb-ca62-684a50186cd2"
   },
   "outputs": [
    {
     "name": "stdout",
     "output_type": "stream",
     "text": [
      "Output after training, y_out\n",
      "[[0.04787119]\n",
      " [0.93728544]\n",
      " [0.95632231]\n",
      " [0.05788845]]\n",
      "Target output, y\n",
      "[[0]\n",
      " [1]\n",
      " [1]\n",
      " [0]]\n"
     ]
    }
   ],
   "source": [
    "num_iters = 2000\n",
    "eps = 0.5\n",
    "\n",
    "\n",
    "mse = np.zeros(num_iters)\n",
    "\n",
    "for it in range(num_iters):\n",
    "    for n in range(len(X)):\n",
    "        x_n = np.reshape(X[n], (3,1))\n",
    "        y_target = y[n]        \n",
    "        \n",
    "        # Forward propagation\n",
    "        h = f(np.dot(W_1.T, x_n)) # [TO COMPLETE] Calculate h\n",
    "        y_out = f(np.dot(W_2.T, h)) # [TO COMPLETE] Calculate y_out\n",
    "\n",
    "        # Let's keep track of the sum of squared errors\n",
    "        mse[it] += ((y_target - y_out) ** 2) / 2  #[TO COMPLETE]: compute squared error between y_target and y_out\n",
    "        # in this naming convention input is layer 0\n",
    "        # [TO COMPLETE] Compute the gradient\n",
    "        dl_2 = (y_out - y_target)           # the derivative of loss function (mse) \n",
    "        da_2 = y_out * (1 - y_out)          # the derivative of activation function (sigmoid)\n",
    "        dz_2 = h                            # the derivative of input of activation function(before activation) wrt to weights (z = W2.T @ h)\n",
    "        dl_1 = np.dot(da_2 * dl_2, W_2.T)   # the derivative of loss function of layer hidden to input \n",
    "        da_1 = ((h) * (1 - h)).T            # the derivative of activation (sigmoid) of hidden layer vectorized\n",
    "        dz_1 = x_n                          # the derivative of (z = W1.T @ x_n) wrt to weights\n",
    "        # multiplying the derivatives \n",
    "        grad_2 = np.dot(dz_2, dl_2 * da_2)  \n",
    "        grad_1 = np.dot(dz_1, dl_1 * da_1)  \n",
    "        # [TO COMPLETE] Update the weights\n",
    "        # Note: it's important the W weights are updated at the end,\n",
    "        # the above calculation should be done with the old weights\n",
    "        W_2 +=  - eps * grad_2\n",
    "        W_1 +=  - eps * grad_1\n",
    "        \n",
    "    # Divide by the number of elements to get the mean of the squared errors\n",
    "    mse[it] /= len(X)\n",
    "\n",
    "y_out = f(np.dot(f(np.dot(X, W_1)), W_2))\n",
    "print(\"Output after training, y_out\")\n",
    "print(y_out)\n",
    "print(\"Target output, y\")\n",
    "print(y)\n"
   ]
  },
  {
   "cell_type": "markdown",
   "metadata": {
    "id": "1nYoyoR2fANg"
   },
   "source": [
    "Now you should see outputs very similar to the desired ones "
   ]
  },
  {
   "cell_type": "code",
   "execution_count": 303,
   "metadata": {
    "colab": {
     "base_uri": "https://localhost:8080/",
     "height": 265
    },
    "id": "YKuG4wee9kIc",
    "outputId": "121f521d-2f21-41a1-e420-c4c92adcdcca"
   },
   "outputs": [
    {
     "data": {
      "image/png": "[encoded data removed]",
      "text/plain": [
       "<Figure size 432x288 with 1 Axes>"
      ]
     },
     "metadata": {
      "needs_background": "light"
     },
     "output_type": "display_data"
    }
   ],
   "source": [
    "plt.figure()\n",
    "plt.plot(range(num_iters), mse, label=\"MSE\")\n",
    "l = plt.legend()"
   ]
  },
  {
   "cell_type": "markdown",
   "metadata": {
    "id": "cAmf-t0PurMP"
   },
   "source": [
    "## Exercise 1.3: handwritten digits classification\n",
    "In this exercise, we try to apply what we learned in the previous exercise in a real-world scenario. In particular, we consider a simple digits classification problem. The model turns out to be similar to the perceptron implemented in Exercise 1.1, but here we will use softmax activation function and cross-entropy loss function. The idea is to create a model that has in input an image of a handwritten digit and that return a vector of 10 probabilities (one for each possible digit 0 - 9). "
   ]
  },
  {
   "cell_type": "markdown",
   "metadata": {
    "id": "IAYb_cd8vkG-"
   },
   "source": [
    "### Dataset:\n",
    "The dataset that we will use in this exercise is contained in [scikit-learn](https://scikit-learn.org/stable/). The dataset contains several samples. Each sample is composed of the image of the handwritten digit, a numeric representation of the image  (that will be the input of our model) and the target (the digit itself). \n",
    "\n",
    "Let's start by plotting one of this handwritten digit:"
   ]
  },
  {
   "cell_type": "code",
   "execution_count": 304,
   "metadata": {
    "colab": {
     "base_uri": "https://localhost:8080/",
     "height": 245
    },
    "id": "MGrkAeWtufMk",
    "outputId": "2cd03773-662f-4e8c-a503-dee8043fc065"
   },
   "outputs": [
    {
     "data": {
      "text/plain": [
       "Text(0.5, 1.0, 'image label: 3')"
      ]
     },
     "execution_count": 304,
     "metadata": {},
     "output_type": "execute_result"
    },
    {
     "data": {
      "image/png": "[encoded data removed]",
      "text/plain": [
       "<Figure size 216x216 with 1 Axes>"
      ]
     },
     "metadata": {
      "needs_background": "light"
     },
     "output_type": "display_data"
    }
   ],
   "source": [
    "import matplotlib.pyplot as plt\n",
    "import numpy as np\n",
    "from sklearn.datasets import load_digits\n",
    "\n",
    "np.random.seed([42])\n",
    "\n",
    "digits = load_digits()\n",
    "\n",
    "sample_index = 45\n",
    "plt.figure(figsize=(3, 3))\n",
    "plt.imshow(digits.images[sample_index], cmap=plt.cm.gray_r,\n",
    "           interpolation='nearest')\n",
    "plt.title(\"image label: %d\" % digits.target[sample_index])"
   ]
  },
  {
   "cell_type": "markdown",
   "metadata": {
    "id": "K0OsnNJbv69J"
   },
   "source": [
    "Check how an input $\\mathbf{X}$ and its related target $\\mathbf{y}$ are represented in the dataset"
   ]
  },
  {
   "cell_type": "code",
   "execution_count": 305,
   "metadata": {
    "colab": {
     "base_uri": "https://localhost:8080/"
    },
    "id": "ei9Uda4av5q2",
    "outputId": "05c0137d-640b-49db-e2f0-0d5cebbd14f5"
   },
   "outputs": [
    {
     "name": "stdout",
     "output_type": "stream",
     "text": [
      "X: [[ 0.  0.  5. ...  0.  0.  0.]\n",
      " [ 0.  0.  0. ... 10.  0.  0.]\n",
      " [ 0.  0.  0. ... 16.  9.  0.]\n",
      " ...\n",
      " [ 0.  0.  1. ...  6.  0.  0.]\n",
      " [ 0.  0.  2. ... 12.  0.  0.]\n",
      " [ 0.  0. 10. ... 12.  1.  0.]]\n",
      "y: [0 1 2 ... 8 9 8]\n"
     ]
    }
   ],
   "source": [
    "data = np.asarray(digits.data, dtype='float32')\n",
    "target = np.asarray(digits.target, dtype='int32')\n",
    "\n",
    "print(\"X:\",data)\n",
    "\n",
    "print(\"y:\",target)"
   ]
  },
  {
   "cell_type": "markdown",
   "metadata": {
    "id": "8Hc97pziwLKa"
   },
   "source": [
    "#### One-hot encoding\n",
    "In order to have a representation of the target that will be similar to the output of the model, we will use one-hot encoding. Basically, the one-hot encoding allows to encode a categorical integer feature using a one-of-K scheme"
   ]
  },
  {
   "cell_type": "code",
   "execution_count": 306,
   "metadata": {
    "id": "eF6jEnOmwRUk"
   },
   "outputs": [],
   "source": [
    "def one_hot(n_classes, y):\n",
    "    return np.eye(n_classes)[y]"
   ]
  },
  {
   "cell_type": "code",
   "execution_count": 307,
   "metadata": {
    "colab": {
     "base_uri": "https://localhost:8080/"
    },
    "id": "r4CISmJ39lts",
    "outputId": "83232a88-acb5-4db0-f364-decd783cdc7d"
   },
   "outputs": [
    {
     "data": {
      "text/plain": [
       "array([0., 0., 0., 1., 0., 0., 0., 0., 0., 0.])"
      ]
     },
     "execution_count": 307,
     "metadata": {},
     "output_type": "execute_result"
    }
   ],
   "source": [
    "one_hot(n_classes=10, y=3)"
   ]
  },
  {
   "cell_type": "markdown",
   "metadata": {
    "id": "gkSruP-bwkki"
   },
   "source": [
    "### Activation Function: Softmax [TO COMPLETE]\n",
    "As activation function we will use the Softmax function: This particular function is very useful when we have to deal with classification tasks and one-hot target because it turns numbers aka logits (pre-activations) into probabilities that sum to one. Basically, Softmax function outputs a vector that represents the probability distributions of a list of potential outcomes.\n",
    "$$\n",
    "softmax(\\mathbf{x}) = \\frac{e^{h_i}}{\\sum_{i=1}^{n}{e^{x_i}}}\n",
    "$$\n",
    "In our case we have in input a matrix $\\mathbf{X}$ where each row is a vector $\\mathbf{x}$, therefore the softmax function that we have to implements will be mathematically defined as:\n",
    "$$\n",
    "softmax(\\mathbf{x}) = \\frac{1}{\\sum_{i=1}^{n}{e^{x_i}}}\n",
    "\\cdot\n",
    "\\begin{bmatrix}\n",
    "  e^{x_1}\\\\\\\\\n",
    "  e^{x_2}\\\\\\\\\n",
    "  \\vdots\\\\\\\\\n",
    "  e^{x_n}\n",
    "\\end{bmatrix}\n",
    "$$\n"
   ]
  },
  {
   "cell_type": "code",
   "execution_count": 314,
   "metadata": {
    "id": "9BuHFgAKws_v"
   },
   "outputs": [],
   "source": [
    "def softmax(X):\n",
    "    #[TO COMPLETE] define softmax function\n",
    "    e_x = np.exp(X - np.max(X))\n",
    "    return e_x / e_x.sum() \n"
   ]
  },
  {
   "cell_type": "markdown",
   "metadata": {
    "id": "KP7xOmNqsE-R"
   },
   "source": [
    "### Loss Function: Cross Entropy ###\n",
    "Usualy, a neural network-based classifier that use the softmax function in the final layer is commonly trained using Cross-Entropy as loss function."
   ]
  },
  {
   "cell_type": "code",
   "execution_count": 309,
   "metadata": {
    "id": "UYnPJ1lWsFkP"
   },
   "outputs": [],
   "source": [
    "EPSILON = 1e-8\n",
    "\n",
    "def cross_entropy(Y_true, Y_pred):\n",
    "\n",
    "    Y_true, Y_pred = np.atleast_2d(Y_true), np.atleast_2d(Y_pred)\n",
    "    loglikelihoods = np.sum(np.log(EPSILON + Y_pred) * Y_true, axis=1)\n",
    "    return -np.mean(loglikelihoods)\n"
   ]
  },
  {
   "cell_type": "markdown",
   "metadata": {
    "id": "R2jR9ijztQWP"
   },
   "source": [
    "### Weights Initailiazation\n",
    "\n",
    "Similarly to what we did in previous exercises, we have to initialize the weights, but in this case, we will consider also the bias term. Therefore we have the weights $\\mathbf{W}\\in\\mathbb{R}^{m \\times n}$ and the bias $\\mathbf{b}\\in\\mathbb{R}^m$, where $n$ is the input size, and $m$ the number of classes.\n",
    "Now we can define the output of our model\n",
    "\n",
    "$\\hat{\\mathbf{y}}=softmax(\\textbf{W} \\textbf{x}+\\mathbf{b})$\n",
    "\n"
   ]
  },
  {
   "cell_type": "code",
   "execution_count": 315,
   "metadata": {
    "colab": {
     "base_uri": "https://localhost:8080/"
    },
    "id": "FtgOtaVL-4xd",
    "outputId": "829fbfa8-67d5-4023-c4aa-183b94be544f"
   },
   "outputs": [],
   "source": [
    "input_size=data.shape[1]\n",
    "n_classes = len(np.unique(target))\n",
    "\n",
    "\n",
    "W = np.random.uniform(size=(input_size,n_classes),high=0.1, low=-0.1)\n",
    "\n",
    "b = np.random.uniform(size=n_classes, high=0.1, low=-0.1)"
   ]
  },
  {
   "cell_type": "markdown",
   "metadata": {
    "id": "6Ab3_mFz-9kG"
   },
   "source": [
    "Let's consider a sample from the training set, and plot the current output of our model, before training it."
   ]
  },
  {
   "cell_type": "code",
   "execution_count": 311,
   "metadata": {
    "colab": {
     "base_uri": "https://localhost:8080/",
     "height": 281
    },
    "id": "6VpIr1KY_CTd",
    "outputId": "2762c3fa-c050-4827-812d-7c507e08d36a"
   },
   "outputs": [
    {
     "data": {
      "image/png": "[encoded data removed]",
      "text/plain": [
       "<Figure size 432x288 with 1 Axes>"
      ]
     },
     "metadata": {
      "needs_background": "light"
     },
     "output_type": "display_data"
    }
   ],
   "source": [
    "y_out=softmax(np.dot(data[sample_index], W) + b)\n",
    "\n",
    "plt.bar(range(n_classes),y_out,label='prediction', color=\"red\")\n",
    "plt.ylim(0,1,0.1)\n",
    "plt.xticks(range(n_classes))\n",
    "plt.legend()\n",
    "plt.ylabel(\"probability\")\n",
    "plt.title(\"target:\"+str(target[sample_index]))\n",
    "plt.show()"
   ]
  },
  {
   "cell_type": "markdown",
   "metadata": {
    "id": "r4DYTEEh_QDf"
   },
   "source": [
    "### Training procedure [TO COMPLETE]:\n",
    "As in the previous exercise let's define a training procedure. Note that in this case, we have to compute the gradient according to the softmax function and the loss function that the training has to optimize. \n",
    "\n",
    "In this case, the gradient for the weights W is:\n",
    "\n",
    "$\\nabla_W=(\\mathbf{\\hat{y}}-\\mathbf{y}) \\cdot \\mathbf{x}$\n",
    "\n",
    "while for the bias is:\n",
    "\n",
    "$\\nabla_b=(\\mathbf{\\hat{y}}-\\mathbf{y})$\n",
    "\n",
    "During the training procedure let's compute the accuracy of the predictions and the loss value at each iteration:\n",
    "\n"
   ]
  },
  {
   "cell_type": "code",
   "execution_count": 316,
   "metadata": {
    "colab": {
     "base_uri": "https://localhost:8080/"
    },
    "id": "OcQfByoE_a6v",
    "outputId": "127de5ce-adb7-4920-f7e8-f15726545082"
   },
   "outputs": [
    {
     "name": "stdout",
     "output_type": "stream",
     "text": [
      "iteration:  0  -- accuracy:  0.8369504730105731  -- loss:  0.574047978845169\n",
      "iteration:  1  -- accuracy:  0.9543683917640512  -- loss:  0.1666204520891977\n",
      "iteration:  2  -- accuracy:  0.9654980523094046  -- loss:  0.13105046041980994\n",
      "iteration:  3  -- accuracy:  0.9688369504730105  -- loss:  0.1128839101634895\n",
      "iteration:  4  -- accuracy:  0.9732888146911519  -- loss:  0.10079042316404882\n",
      "iteration:  5  -- accuracy:  0.9766277128547579  -- loss:  0.0917539372860715\n",
      "iteration:  6  -- accuracy:  0.9788536449638287  -- loss:  0.08456187502873805\n",
      "iteration:  7  -- accuracy:  0.9788536449638287  -- loss:  0.07861111920536235\n",
      "iteration:  8  -- accuracy:  0.9827490261547023  -- loss:  0.07356375469553197\n",
      "iteration:  9  -- accuracy:  0.9844184752365053  -- loss:  0.06921187780060603\n",
      "iteration:  10  -- accuracy:  0.9849749582637729  -- loss:  0.06541689127394773\n",
      "iteration:  11  -- accuracy:  0.9860879243183083  -- loss:  0.06207982646154351\n",
      "iteration:  12  -- accuracy:  0.986644407345576  -- loss:  0.059125481925233425\n",
      "iteration:  13  -- accuracy:  0.9877573734001113  -- loss:  0.05649358582093138\n",
      "iteration:  14  -- accuracy:  0.988313856427379  -- loss:  0.054134298729470516\n",
      "iteration:  15  -- accuracy:  0.9888703394546466  -- loss:  0.05200626739037949\n",
      "iteration:  16  -- accuracy:  0.9910962715637173  -- loss:  0.05007551631902468\n",
      "iteration:  17  -- accuracy:  0.9910962715637173  -- loss:  0.04831426434778676\n",
      "iteration:  18  -- accuracy:  0.9922092376182526  -- loss:  0.046699677269366795\n",
      "iteration:  19  -- accuracy:  0.993322203672788  -- loss:  0.04521280071735424\n",
      "iteration:  20  -- accuracy:  0.993322203672788  -- loss:  0.04383775234116288\n",
      "iteration:  21  -- accuracy:  0.9944351697273233  -- loss:  0.042561126927818646\n",
      "iteration:  22  -- accuracy:  0.9944351697273233  -- loss:  0.041371548086672184\n",
      "iteration:  23  -- accuracy:  0.9944351697273233  -- loss:  0.04025931854202273\n",
      "iteration:  24  -- accuracy:  0.994991652754591  -- loss:  0.039216139756765314\n",
      "iteration:  25  -- accuracy:  0.994991652754591  -- loss:  0.03823488316768456\n",
      "iteration:  26  -- accuracy:  0.9955481357818586  -- loss:  0.03730940163657409\n",
      "iteration:  27  -- accuracy:  0.9955481357818586  -- loss:  0.03643437319835446\n",
      "iteration:  28  -- accuracy:  0.9955481357818586  -- loss:  0.03560517122401448\n",
      "iteration:  29  -- accuracy:  0.9955481357818586  -- loss:  0.03481775640916476\n",
      "iteration:  30  -- accuracy:  0.9955481357818586  -- loss:  0.034068586885371475\n",
      "iteration:  31  -- accuracy:  0.9955481357818586  -- loss:  0.03335454340165032\n",
      "iteration:  32  -- accuracy:  0.996661101836394  -- loss:  0.03267286702870195\n",
      "iteration:  33  -- accuracy:  0.996661101836394  -- loss:  0.03202110724908215\n",
      "iteration:  34  -- accuracy:  0.996661101836394  -- loss:  0.03139707864055263\n",
      "iteration:  35  -- accuracy:  0.996661101836394  -- loss:  0.030798824652911644\n",
      "iteration:  36  -- accuracy:  0.9977740678909294  -- loss:  0.030224587229525996\n",
      "iteration:  37  -- accuracy:  0.9977740678909294  -- loss:  0.029672781239150247\n",
      "iteration:  38  -- accuracy:  0.9977740678909294  -- loss:  0.029141972865572057\n",
      "iteration:  39  -- accuracy:  0.9977740678909294  -- loss:  0.02863086125578004\n",
      "iteration:  40  -- accuracy:  0.9977740678909294  -- loss:  0.028138262855172364\n",
      "iteration:  41  -- accuracy:  0.9977740678909294  -- loss:  0.027663097964156013\n",
      "iteration:  42  -- accuracy:  0.9977740678909294  -- loss:  0.027204379137536115\n",
      "iteration:  43  -- accuracy:  0.9977740678909294  -- loss:  0.026761201119312572\n",
      "iteration:  44  -- accuracy:  0.9977740678909294  -- loss:  0.026332732063553632\n",
      "iteration:  45  -- accuracy:  0.9977740678909294  -- loss:  0.025918205839201763\n",
      "iteration:  46  -- accuracy:  0.9977740678909294  -- loss:  0.025516915254943838\n",
      "iteration:  47  -- accuracy:  0.9977740678909294  -- loss:  0.025128206071251626\n",
      "iteration:  48  -- accuracy:  0.9977740678909294  -- loss:  0.0247514716916757\n",
      "iteration:  49  -- accuracy:  0.9977740678909294  -- loss:  0.024386148445506604\n"
     ]
    }
   ],
   "source": [
    "num_iters = 50\n",
    "learning_rate = 0.0005\n",
    "\n",
    "for it in range(num_iters):\n",
    "    iteration_accuracy=[]\n",
    "    iteration_loss=[]\n",
    "    for i, (X, y) in enumerate(zip(data, target)):\n",
    "        #b = b.reshape(10,1)\n",
    "        \n",
    "        # Forward propagation\n",
    "        X = X.reshape(64,1)\n",
    "        y_out= softmax(np.dot(X.T, W) + b)\n",
    "        \n",
    "            # [TO COMPLETE] compute forward propagation using the softmax \n",
    "              # function previously defined as activation function\n",
    "        #Eval the output error\n",
    "        pred_err = y_out - one_hot(n_classes, y) # the derivative of loss function and softmax function\n",
    "        \n",
    "        tmp = np.dot(X, pred_err)\n",
    "        W_delta = - learning_rate  * tmp\n",
    "        b_delta = - learning_rate * pred_err.reshape(10,)\n",
    "        # [TO COMPLETE] Update the weights and the bias\n",
    "        W += W_delta\n",
    "        b += b_delta\n",
    "        # Note: it's important the weights W and the bias b are updated at the end\n",
    "        # the above calculation should be done with the old weights\n",
    "        iteration_accuracy.append(np.argmax(y_out) == y)\n",
    "        iteration_loss.append(cross_entropy(one_hot(n_classes,y),y_out))\n",
    "\n",
    "    print(\"iteration: \",it,\" -- accuracy: \",np.mean(np.asarray(iteration_accuracy)), \" -- loss: \", np.mean(iteration_loss))\n"
   ]
  },
  {
   "cell_type": "markdown",
   "metadata": {
    "id": "QnJH8lWaxtc4"
   },
   "source": [
    "As you can see during the training the accuracy increase after each iteration, while the loss function value progressively decreases.\n",
    "\n",
    "Let's now check how the prediction capability of our model change after the training:"
   ]
  },
  {
   "cell_type": "code",
   "execution_count": 313,
   "metadata": {
    "colab": {
     "base_uri": "https://localhost:8080/",
     "height": 281
    },
    "id": "jGrzV9w6_lwz",
    "outputId": "f6ca8faf-efdf-4c12-c9ed-07c2ba2a3b57"
   },
   "outputs": [
    {
     "data": {
      "image/png": "[encoded data removed]",
      "text/plain": [
       "<Figure size 432x288 with 1 Axes>"
      ]
     },
     "metadata": {
      "needs_background": "light"
     },
     "output_type": "display_data"
    }
   ],
   "source": [
    "y_pred=softmax(np.dot(data[sample_index], W) + b)\n",
    "plt.bar(range(n_classes), y_pred, label='prediction', color=\"red\")\n",
    "plt.ylim(0, 1, 0.1)\n",
    "plt.xticks(range(n_classes))\n",
    "plt.legend()\n",
    "plt.ylabel(\"probability\")\n",
    "plt.title(\"target:\"+str(target[sample_index]))\n",
    "plt.show()"
   ]
  },
  {
   "cell_type": "code",
   "execution_count": null,
   "metadata": {
    "id": "lZSNtV6cz3Ex"
   },
   "outputs": [],
   "source": []
  }
 ],
 "metadata": {
  "colab": {
   "collapsed_sections": [],
   "name": "HW1_Arvin_Rastegar.ipynb",
   "provenance": []
  },
  "kernelspec": {
   "display_name": "Python 3",
   "language": "python",
   "name": "python3"
  },
  "language_info": {
   "codemirror_mode": {
    "name": "ipython",
    "version": 3
   },
   "file_extension": ".py",
   "mimetype": "text/x-python",
   "name": "python",
   "nbconvert_exporter": "python",
   "pygments_lexer": "ipython3",
   "version": "3.8.5"
  }
 },
 "nbformat": 4,
 "nbformat_minor": 4
}
